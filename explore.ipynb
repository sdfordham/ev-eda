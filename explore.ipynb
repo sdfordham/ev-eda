{
 "cells": [
  {
   "cell_type": "code",
   "execution_count": 1,
   "metadata": {},
   "outputs": [],
   "source": [
    "import urllib3\n",
    "from bs4 import BeautifulSoup\n",
    "import pandas as pd"
   ]
  },
  {
   "cell_type": "code",
   "execution_count": 2,
   "metadata": {},
   "outputs": [],
   "source": [
    "def get_webpage(url=\"https://ev-database.org/\"):\n",
    "    http = urllib3.PoolManager()\n",
    "    res = http.request(\"GET\", url)\n",
    "    http.clear()\n",
    "    return res"
   ]
  },
  {
   "cell_type": "code",
   "execution_count": 3,
   "metadata": {},
   "outputs": [],
   "source": [
    "def process_webpage(res):\n",
    "    soup = BeautifulSoup(res.data, \"html.parser\")\n",
    "    car_list = soup.find(\"div\", attrs={\"class\": \"list\"})\n",
    "    cars_divs = car_list.find_all(\"div\", attrs={\"class\": \"list-item\"})\n",
    "\n",
    "    cars = list()\n",
    "    for div in cars_divs:\n",
    "        car = list()\n",
    "        for span in div.find_all(\"span\"):\n",
    "            if \"class\" in span.attrs and span.contents:\n",
    "                car.append(\n",
    "                    {\n",
    "                        \"class\": span.attrs[\"class\"],\n",
    "                        \"contents\": span.contents[0]\n",
    "                    }\n",
    "                )\n",
    "        cars.append(car)\n",
    "\n",
    "    cars_processed = list()\n",
    "    for car in cars:\n",
    "        this_ = dict()\n",
    "\n",
    "        # Get maker/manufacturer (first span)\n",
    "        this_[\"maker\"] = car[0][\"contents\"]\n",
    "\n",
    "        # Get bunch of details\n",
    "        for detail in (\"model\", \"battery\", \"acceleration\",\n",
    "            \"topspeed\", \"erange_real\", \"efficiency\", \"fastcharge_speed\",\n",
    "            \"country_de\", \"country_nl\", \"country_uk\"\n",
    "            ):\n",
    "            for aspect in car:\n",
    "                if detail in aspect[\"class\"]:\n",
    "                    this_[detail] = aspect[\"contents\"]\n",
    "                    break\n",
    "            if detail not in this_:\n",
    "                this_[detail] = None\n",
    "\n",
    "        \n",
    "        # Get plug type\n",
    "        for aspect in car:\n",
    "            for class_ in aspect[\"class\"]:\n",
    "                if class_.lower().startswith(\"plug\"):\n",
    "                    this_[\"plug\"] = aspect[\"contents\"]\n",
    "                    break\n",
    "            this_[detail] = None\n",
    "\n",
    "        cars_processed.append(this_)\n",
    "    return cars_processed"
   ]
  },
  {
   "cell_type": "code",
   "execution_count": 52,
   "metadata": {},
   "outputs": [],
   "source": [
    "def make_dataframe(cars):\n",
    "    df = pd.DataFrame.from_dict(cars)\n",
    "    df = df.astype(\n",
    "        {\n",
    "            \"maker\": \"string\",\n",
    "            \"model\": \"string\",\n",
    "            \"battery\": \"float64\",\n",
    "            \"fastcharge_speed\": \"float64\",\n",
    "            \"plug\": \"string\"\n",
    "        }\n",
    "    )\n",
    "    df[\"acceleration (sec)\"] = df[\"acceleration\"].str.extract(\"(\\d+.\\d+)\\ssec\").astype(\"float64\")\n",
    "    df[\"topspeed (km/h)\"] = df[\"topspeed\"].str.extract(\"(\\d+)\\skm\\/h\").astype(\"int64\")\n",
    "    df[\"erange_real (km)\"] = df[\"erange_real\"].str.extract(\"(\\d+)\\skm\").astype(\"int64\")\n",
    "    df[\"efficiency (Wh/km)\"] = df[\"efficiency\"].str.extract(\"(\\d+)\\sWh\\/km\").astype(\"int64\")\n",
    "\n",
    "    for price in (\"country_de\", \"country_nl\", \"country_uk\"):\n",
    "        if df[price].isna().all():\n",
    "            continue\n",
    "        regex = df[price].str.extract(\"€(\\d+),(\\d+)\")\n",
    "        df[f\"{price} (€)\"] = regex[~regex.isna().any(axis=1)].agg(\"\".join, axis=1).astype(\"float64\")\n",
    "\n",
    "    df.drop(\n",
    "        columns=\n",
    "        [\n",
    "            \"acceleration\", \"topspeed\", \"erange_real\", \"efficiency\",\n",
    "            \"country_de\", \"country_nl\", \"country_uk\"\n",
    "        ],\n",
    "        inplace=True\n",
    "    )\n",
    "\n",
    "    return df"
   ]
  },
  {
   "cell_type": "code",
   "execution_count": 5,
   "metadata": {},
   "outputs": [],
   "source": [
    "res = get_webpage()"
   ]
  },
  {
   "cell_type": "code",
   "execution_count": 53,
   "metadata": {},
   "outputs": [],
   "source": [
    "cars = process_webpage(res)\n",
    "df = make_dataframe(cars)"
   ]
  },
  {
   "cell_type": "code",
   "execution_count": 60,
   "metadata": {},
   "outputs": [],
   "source": [
    "df.to_csv(\"evs.csv\")"
   ]
  }
 ],
 "metadata": {
  "kernelspec": {
   "display_name": ".venv",
   "language": "python",
   "name": "python3"
  },
  "language_info": {
   "codemirror_mode": {
    "name": "ipython",
    "version": 3
   },
   "file_extension": ".py",
   "mimetype": "text/x-python",
   "name": "python",
   "nbconvert_exporter": "python",
   "pygments_lexer": "ipython3",
   "version": "3.9.0"
  },
  "orig_nbformat": 4,
  "vscode": {
   "interpreter": {
    "hash": "f7141c76eadc0207659552d4943f325475f3508843d08d7c8b66b1037a383a7c"
   }
  }
 },
 "nbformat": 4,
 "nbformat_minor": 2
}
